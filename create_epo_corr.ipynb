{
 "cells": [
  {
   "cell_type": "code",
   "execution_count": null,
   "metadata": {},
   "outputs": [],
   "source": [
    "import numpy as np\n",
    "import matplotlib.pyplot as plt\n",
    "import seaborn as sns\n",
    "import mne\n",
    "from mne_connectivity import envelope_correlation\n",
    "from scipy import signal\n",
    "\n",
    "\n",
    "y_data= np.load('CC110033.npy')\n",
    "def bp_gen(label_ts):\n",
    "    \"\"\"Make a generator that band-passes on the fly.\"\"\"\n",
    "    for ts in label_ts:\n",
    "        yield mne.filter.filter_data(ts, 1000, 8, 13, )\n",
    "\n",
    "src_ts    = y_data\n",
    "print(np.shape(src_ts))\n",
    "\n",
    "\n",
    "corr_obj = envelope_correlation(bp_gen(src_ts), orthogonalize=\"pairwise\")\n",
    "corr     = corr_obj.combine()\n",
    "corr     = corr_obj.get_data('dense')[:,:,:,0]\n",
    "\n",
    "\n",
    "np.save('epoched_correlation', corr)"
   ]
  }
 ],
 "metadata": {
  "kernelspec": {
   "display_name": "Learning",
   "language": "python",
   "name": "python3"
  },
  "language_info": {
   "name": "python",
   "version": "3.11.5"
  }
 },
 "nbformat": 4,
 "nbformat_minor": 2
}
